{
 "cells": [
  {
   "cell_type": "code",
   "execution_count": 1,
   "metadata": {},
   "outputs": [],
   "source": [
    "# Imports\n",
    "import torch\n",
    "import torch.nn as nn\n",
    "import torch.nn.functional as F\n",
    "import torchvision.transforms as transforms\n",
    "from torchvision.datasets import MNIST\n",
    "import torchvision.transforms.functional as TF\n",
    "from torch.utils.data import DataLoader\n",
    "import random as rand \n",
    "\n",
    "train_mode = True\n",
    "batch_size = 1"
   ]
  },
  {
   "cell_type": "code",
   "execution_count": 2,
   "metadata": {},
   "outputs": [],
   "source": [
    "def blur(image):\n",
    "    return TF.gaussian_blur(image, (15, 15), 0.8)\n",
    "\n",
    "def flip(image):\n",
    "    return TF.hflip(image)"
   ]
  },
  {
   "cell_type": "code",
   "execution_count": 3,
   "metadata": {},
   "outputs": [],
   "source": [
    "#Transformation matrix\n",
    "transform = transforms.ToTensor()\n",
    "#loader the loaders\n",
    "mnist_train = MNIST(root='./data', train=True, download=True, transform=transform)\n",
    "train_loader = DataLoader(mnist_train, batch_size=batch_size, shuffle=True)\n",
    "processed_data = []\n",
    "processed_targets = []\n",
    "processed_dataset = {\n",
    "    'data': processed_data,\n",
    "    'targets': processed_targets\n",
    "}\n",
    "\n",
    "#parse the data, i have this solution that may for but, may be inefficient\n",
    "for batch_idx, (data, target) in enumerate(train_loader):\n",
    "    for x in range (0,batch_size):\n",
    "        noise = rand.randint(1, 2)\n",
    "        if (noise == 1):\n",
    "            #flipped\n",
    "            target[x] = target[x]*10\n",
    "            data[x] = flip(data[x])\n",
    "        else:\n",
    "            #blurred\n",
    "            target[x] = (target[x]*10) +1\n",
    "            data[x] = blur(data[x])\n",
    "    processed_data.append(data)\n",
    "    processed_targets.append(target)\n",
    "    \n",
    "processed_data = torch.cat(processed_data, dim=0)\n",
    "processed_targets = torch.cat(processed_targets, dim=0)\n",
    "\n",
    "torch.save(processed_dataset, \"./data/MNIST/noisydata.pt\")\n",
    "\n"
   ]
  },
  {
   "cell_type": "code",
   "execution_count": 4,
   "metadata": {},
   "outputs": [],
   "source": [
    "#Transformation matrix\n",
    "transform = transforms.ToTensor()\n",
    "#loader the loaders\n",
    "mnist_train = MNIST(root='./data', train=False, download=True, transform=transform)\n",
    "train_loader = DataLoader(mnist_train, batch_size=batch_size, shuffle=True)\n",
    "processed_data = []\n",
    "processed_targets = []\n",
    "processed_dataset = {\n",
    "    'data': processed_data,\n",
    "    'targets': processed_targets\n",
    "}\n",
    "\n",
    "#parse the data, i have this solution that may for but, may be inefficient\n",
    "for batch_idx, (data, target) in enumerate(train_loader):\n",
    "    for x in range (0,batch_size):\n",
    "        noise = rand.randint(1, 2)\n",
    "        if (noise == 1):\n",
    "            #flipped\n",
    "            target[x] = target[x]*10\n",
    "            data[x] = flip(data[x])\n",
    "        else:\n",
    "            #blurred\n",
    "            target[x] = (target[x]*10) +1\n",
    "            data[x] = blur(data[x])\n",
    "    processed_data.append(data)\n",
    "    processed_targets.append(target)\n",
    "    \n",
    "processed_data = torch.cat(processed_data, dim=0)\n",
    "processed_targets = torch.cat(processed_targets, dim=0)\n",
    "\n",
    "torch.save(processed_dataset, \"./data/MNIST/noisy_test_data.pt\")"
   ]
  }
 ],
 "metadata": {
  "kernelspec": {
   "display_name": "Python 3",
   "language": "python",
   "name": "python3"
  },
  "language_info": {
   "codemirror_mode": {
    "name": "ipython",
    "version": 3
   },
   "file_extension": ".py",
   "mimetype": "text/x-python",
   "name": "python",
   "nbconvert_exporter": "python",
   "pygments_lexer": "ipython3",
   "version": "3.12.1"
  }
 },
 "nbformat": 4,
 "nbformat_minor": 2
}
